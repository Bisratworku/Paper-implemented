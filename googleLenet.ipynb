{
  "cells": [
    {
      "cell_type": "code",
      "execution_count": 1,
      "metadata": {
        "id": "E7Gt4orSYMI7"
      },
      "outputs": [],
      "source": [
        "import torch\n",
        "from torch import nn"
      ]
    },
    {
      "cell_type": "code",
      "execution_count": null,
      "metadata": {
        "id": "WZ3rYGrBZ72a"
      },
      "outputs": [],
      "source": [
        "#=nb"
      ]
    },
    {
      "cell_type": "code",
      "execution_count": 2,
      "metadata": {
        "id": "X66ZWmy8oU5O"
      },
      "outputs": [],
      "source": [
        "img = torch.rand(3,224,224)"
      ]
    },
    {
      "cell_type": "code",
      "source": [
        "class Inception(nn.Module):\n",
        "  def __init__(self, in_ch, out_ch, classes):\n",
        "    super().__init__()\n",
        "    self.conv1 = nn.Conv2d(in_ch, out_ch, kernel_size = 1)\n",
        "    self.conv2 = nn.Sequential(\n",
        "        nn.Conv2d(in_ch, out_ch, kernel_size = 1),\n",
        "        nn.ReLU(),\n",
        "        nn.Conv2d(out_ch, out_ch, kernel_size = 3, padding = 1),\n",
        "        nn.ReLU()\n",
        "    )\n",
        "    self.conv3 = nn.Sequential(\n",
        "        nn.Conv2d(in_ch , out_ch, kernel_size = 1),\n",
        "        nn.ReLU(),\n",
        "        nn.Conv2d(out_ch, out_ch, kernel_size = 5, padding = 2),\n",
        "        nn.ReLU()\n",
        "    )\n",
        "    self.conv4 = nn.Sequential(\n",
        "        nn.MaxPool2d(kernel_size = 3, stride = 1, padding = 1, ceil_mode = True),\n",
        "        nn.ReLU(),\n",
        "        nn.Conv2d(in_ch, out_ch, kernel_size = 1),\n",
        "        nn.ReLU()\n",
        "    )\n",
        "  def _forward(self, X):\n",
        "    out1 = self.conv1(X)\n",
        "    out2 = self.conv2(X)\n",
        "    out3 = self.conv3(X)\n",
        "    out4 = self.conv4(X)\n",
        "    return [out1, out2, out3, out4]\n",
        "  def forward(self, X):\n",
        "      output = self._forward(X)\n",
        "      return torch.cat(output, 1)\n"
      ],
      "metadata": {
        "id": "ITMDiSf7ssSs"
      },
      "execution_count": 3,
      "outputs": []
    },
    {
      "cell_type": "code",
      "source": [
        "class googleLnet(nn.Module):\n",
        "  def __init__(self, classes):\n",
        "    super().__init__()\n",
        "    self.flatten = nn.Flatten()\n",
        "    self.Conv1 = nn.Sequential(\n",
        "        nn.Conv2d(in_channel = 3, out_channel = 64, kernel_size = 7, padding = 2, stride = 2),\n",
        "        nn.ReLU(),\n",
        "        nn.MaxPool2d(kernel_size = 3, stride = 2, padding = 1),\n",
        "        nn.ReLU(),\n",
        "        nn.Conv2d(64, 192, kernel_size = 3, padding = 1, stride = 1),\n",
        "        nn.ReLU(),\n",
        "        nn.MaxPool2d(kernel_size = 3, stride = 2, padding = 1),\n",
        "        nn.ReLU(),\n",
        "    )\n",
        "    self.inception_3a = Inception(192, 256)\n",
        "    self.inception_3b = Inception(256, 480)\n",
        "    self.Max1 = nn.MaxPool2d(kernel_size = 3, stride = 2, padding = 1)\n",
        "    self.max = nn.ReLU()\n",
        "    self.inception_4a = Inception(480, 512)\n",
        "    self.inception_4b = Inception(512, 512)\n",
        "    self.inception_4c = Inception(512, 512)\n",
        "    self.inception_4d = Inception(512, 528)\n",
        "    self.inception_4e = Inception(528, 832)\n",
        "    self.Max2 = nn.MaxPool2d(kernel_size = 3, stride = 2, padding = 1)\n",
        "    self.inception_5a = Inception(832, 832)\n",
        "    self.inception_5b = Inception(832, 1024)\n",
        "    self.avgPool = nn.AvgPool2d(kernel_size = 7, stride = 1)\n",
        "    self.fc = nn.Sequential(\n",
        "        nn.Dropout(0.4),\n",
        "        nn.Linear(832, classes)\n",
        "    )\n",
        "  def forward(self, X):\n",
        "      X = self.Conv1(1)\n",
        "      X = self.inception_3a(X)\n",
        "      X = self.inception_3b(X)\n",
        "      X = self.Max1(X)\n",
        "      X = self.max(X)\n",
        "      X = self.inception_4a(X)\n",
        "      X = self.inception_4b(X)\n",
        "      X = self.inception_4c(X)\n",
        "      X = self.inception_4d(X)\n",
        "      X = self.inception_4e(X)\n",
        "      X = self.Max2(X)\n",
        "      X = self.inception_5a(X)\n",
        "      X = self.inception_5b(X)\n",
        "      X = self.acgPool(X)\n",
        "      X = self.fc(X)\n",
        "      return X\n",
        "\n"
      ],
      "metadata": {
        "id": "Nj8PmFtpyYxM"
      },
      "execution_count": 4,
      "outputs": []
    }
  ],
  "metadata": {
    "colab": {
      "provenance": []
    },
    "kernelspec": {
      "display_name": "Python 3",
      "name": "python3"
    },
    "language_info": {
      "name": "python"
    }
  },
  "nbformat": 4,
  "nbformat_minor": 0
}