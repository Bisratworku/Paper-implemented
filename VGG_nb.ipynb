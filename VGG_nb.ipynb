{
  "cells": [
    {
      "cell_type": "code",
      "execution_count": null,
      "metadata": {
        "id": "ClAWTB5U-Ypp"
      },
      "outputs": [],
      "source": [
        "#=nb"
      ]
    },
    {
      "cell_type": "code",
      "source": [
        "!pip install kaggle"
      ],
      "metadata": {
        "colab": {
          "base_uri": "https://localhost:8080/"
        },
        "id": "UHCiHnQWi0zy",
        "outputId": "2fb65444-243d-49ec-8942-4ae5d1aea30e"
      },
      "execution_count": 31,
      "outputs": [
        {
          "output_type": "stream",
          "name": "stdout",
          "text": [
            "Requirement already satisfied: kaggle in /usr/local/lib/python3.10/dist-packages (1.6.14)\n",
            "Requirement already satisfied: six>=1.10 in /usr/local/lib/python3.10/dist-packages (from kaggle) (1.16.0)\n",
            "Requirement already satisfied: certifi>=2023.7.22 in /usr/local/lib/python3.10/dist-packages (from kaggle) (2024.6.2)\n",
            "Requirement already satisfied: python-dateutil in /usr/local/lib/python3.10/dist-packages (from kaggle) (2.8.2)\n",
            "Requirement already satisfied: requests in /usr/local/lib/python3.10/dist-packages (from kaggle) (2.31.0)\n",
            "Requirement already satisfied: tqdm in /usr/local/lib/python3.10/dist-packages (from kaggle) (4.66.4)\n",
            "Requirement already satisfied: python-slugify in /usr/local/lib/python3.10/dist-packages (from kaggle) (8.0.4)\n",
            "Requirement already satisfied: urllib3 in /usr/local/lib/python3.10/dist-packages (from kaggle) (2.0.7)\n",
            "Requirement already satisfied: bleach in /usr/local/lib/python3.10/dist-packages (from kaggle) (6.1.0)\n",
            "Requirement already satisfied: webencodings in /usr/local/lib/python3.10/dist-packages (from bleach->kaggle) (0.5.1)\n",
            "Requirement already satisfied: text-unidecode>=1.3 in /usr/local/lib/python3.10/dist-packages (from python-slugify->kaggle) (1.3)\n",
            "Requirement already satisfied: charset-normalizer<4,>=2 in /usr/local/lib/python3.10/dist-packages (from requests->kaggle) (3.3.2)\n",
            "Requirement already satisfied: idna<4,>=2.5 in /usr/local/lib/python3.10/dist-packages (from requests->kaggle) (3.7)\n"
          ]
        }
      ]
    },
    {
      "cell_type": "code",
      "execution_count": 2,
      "metadata": {
        "id": "jjPtObGkBbi9"
      },
      "outputs": [],
      "source": [
        "import torch\n",
        "from torch import nn\n",
        "from torchvision import datasets\n",
        "from torchvision.transforms import ToTensor\n",
        "from torch.utils.data import DataLoader\n",
        "import matplotlib.pyplot as plt\n",
        "import math"
      ]
    },
    {
      "cell_type": "code",
      "source": [
        "divice = (\"cuda\"\n",
        "   if torch.cuda.is_available()\n",
        "   else \"mps\"\n",
        "   if torch.backends.mps.is_available()\n",
        "   else \"cpu\")\n",
        "divice"
      ],
      "metadata": {
        "colab": {
          "base_uri": "https://localhost:8080/",
          "height": 35
        },
        "id": "whjtNCAoSr4Q",
        "outputId": "32787dc6-3000-4dba-d322-6010a54fb8c5"
      },
      "execution_count": 3,
      "outputs": [
        {
          "output_type": "execute_result",
          "data": {
            "text/plain": [
              "'cuda'"
            ],
            "application/vnd.google.colaboratory.intrinsic+json": {
              "type": "string"
            }
          },
          "metadata": {},
          "execution_count": 3
        }
      ]
    },
    {
      "cell_type": "code",
      "source": [],
      "metadata": {
        "id": "ZY5dO-ldi8Vg"
      },
      "execution_count": null,
      "outputs": []
    },
    {
      "cell_type": "code",
      "execution_count": 24,
      "metadata": {
        "id": "igeMS6BdHuvY"
      },
      "outputs": [],
      "source": [
        "class vgg(nn.Module):\n",
        "  def __init__(self, layer):\n",
        "    super().__init__()\n",
        "    self.layer = layer\n",
        "    self.flatten = nn.Flatten()\n",
        "    self.make_layer()\n",
        "    dummy = torch.zeros(3, 224,224)\n",
        "    o = self.flatten(self.Conv(dummy)).shape[1]\n",
        "    self.fc = nn.Sequential(\n",
        "        nn.Dropout(0.5),\n",
        "        nn.Linear(0, 4096),\n",
        "        nn.ReLU(),\n",
        "        nn.Dropout(0.5),\n",
        "        nn.Linear(4096, 4096),\n",
        "        nn.ReLU(),\n",
        "        nn.Linear(4096, 1000)\n",
        "    )\n",
        "    self.init_weight()\n",
        "  def make_layer(self):\n",
        "    self.Conv = nn.Sequential()\n",
        "    prev = 3\n",
        "    for i in self.layer:\n",
        "      if i == \"M\":\n",
        "        self.Conv.append( nn.MaxPool2d(kernel_size = 2 , stride = 2))\n",
        "      elif i == \"lrn\":\n",
        "        self.Conv.append( nn.LocalResponseNorm(size = 5, alpha = 0.0001, beta = 0.75, k = 2)\n",
        "         )\n",
        "      else:\n",
        "        self.Conv.append(nn.Conv2d(in_channels = prev, out_channels = i , kernel_size = 3, stride = 1, padding = 1))\n",
        "        prev = i\n",
        "  def init_weight(self):\n",
        "    count = 1\n",
        "    for i in self.Conv:\n",
        "      if isinstance(i, nn.Conv2d):\n",
        "        nn.init.xavier_normal_(i.weight)\n",
        "        count += 1\n",
        "      if count >= 4:\n",
        "        break\n",
        "    nn.init.xavier_normal_(self.fc[1].weight, gain = math.sqrt(2))\n",
        "    nn.init.xavier_normal_(self.fc[4].weight, gain = math.sqrt(2))\n",
        "    nn.init.xavier_normal_(self.fc[6].weight, gain = math.sqrt(2))\n",
        "  def forward(self, X):\n",
        "    X = self.Conv(X)\n",
        "    X = self.flatten(X)\n",
        "    X = self.fc(X)\n",
        "    return X\n",
        ""
      ]
    },
    {
      "cell_type": "code",
      "execution_count": 27,
      "metadata": {
        "id": "uykFhVtuIWEu"
      },
      "outputs": [],
      "source": [
        "a = [64,\"M\",128, \"M\", 256,256,\"M\", 512,512, \"M\", 512,512,\"M\"]\n",
        "a_lrn = [64, \"lrn\", \"M\",128, \"M\",256,256, \"M\", 512,512, \"M\", 512,512, \"M\"]\n",
        "b = [64, 64, \"M\", 128,128, \"M\", 256, 256, \"M\", 512, 512, \"M\", 512,512, \"M\"]\n",
        "d = [64,64,\"M\",128,128,\"M\",256,256,256,\"M\", 512,512,512,\"M\", 512,512,512, \"M\"]\n",
        "e = [64,64,\"M\",128,128,\"M\", 256,256,256,256, \"M\", 512,512,512,512, \"M\", 512,512,512,512, \"M\"]"
      ]
    },
    {
      "cell_type": "code",
      "source": [
        "vgg_11 = vgg(a).to(divice)\n",
        "vgg_11_lrn = vgg(a_lrn).to(divice)\n",
        "vgg_13 = vgg(b).to(divice)\n",
        "vgg_16 = vgg(d).to(divice)\n",
        "vgg_19 = vgg(e).to(divice)"
      ],
      "metadata": {
        "id": "CKI2eGGmd_en"
      },
      "execution_count": 29,
      "outputs": []
    }
  ],
  "metadata": {
    "colab": {
      "provenance": [],
      "gpuType": "T4"
    },
    "kernelspec": {
      "display_name": "Python 3",
      "name": "python3"
    },
    "language_info": {
      "name": "python"
    },
    "accelerator": "GPU"
  },
  "nbformat": 4,
  "nbformat_minor": 0
}